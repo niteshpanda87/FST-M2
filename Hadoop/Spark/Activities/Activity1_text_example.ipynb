{
 "cells": [
  {
   "cell_type": "markdown",
   "metadata": {},
   "source": [
    "# Spark Activity1\n",
    "This is an Activity to perform Spark Function using Text File\n",
    "\n",
    "The code block is to import\n",
    "1. Find Spark\n",
    "2. SparkSession\n",
    "3. Spark SQL Function\n",
    "\n",
    "And then initialises the **SparkSession**"
   ]
  },
  {
   "cell_type": "code",
   "execution_count": 3,
   "metadata": {},
   "outputs": [],
   "source": [
    "import findspark\n",
    "from pyspark.sql import SparkSession\n",
    "from pyspark.sql.functions import *\n",
    "\n",
    "# Initialize spark driver\n",
    "findspark.init()\n",
    "spark = SparkSession.builder.master(\"local\").appName(\"FSTExample\").getOrCreate()"
   ]
  },
  {
   "cell_type": "markdown",
   "metadata": {},
   "source": [
    "# Find the word count from a text file"
   ]
  },
  {
   "cell_type": "code",
   "execution_count": 4,
   "metadata": {},
   "outputs": [
    {
     "name": "stderr",
     "output_type": "stream",
     "text": [
      "<>:2: SyntaxWarning: invalid escape sequence '\\s'\n",
      "<>:2: SyntaxWarning: invalid escape sequence '\\s'\n",
      "C:\\Users\\003VSE744\\AppData\\Local\\Temp\\ipykernel_23252\\129347699.py:2: SyntaxWarning: invalid escape sequence '\\s'\n",
      "  inputFile.select(explode(split(inputFile.value, '\\s+')).alias('word')).groupBy('word').count().show()\n"
     ]
    },
    {
     "name": "stdout",
     "output_type": "stream",
     "text": [
      "+-------+-----+\n",
      "|   word|count|\n",
      "+-------+-----+\n",
      "|Example| 8156|\n",
      "|     is| 8156|\n",
      "|     an| 8156|\n",
      "|   This| 8156|\n",
      "+-------+-----+\n",
      "\n"
     ]
    }
   ],
   "source": [
    "inputFile = spark.read.text(\"simple_text.txt\")\n",
    "inputFile.select(explode(split(inputFile.value, '\\s+')).alias('word')).groupBy('word').count().show()"
   ]
  }
 ],
 "metadata": {
  "kernelspec": {
   "display_name": "Python 3",
   "language": "python",
   "name": "python3"
  },
  "language_info": {
   "codemirror_mode": {
    "name": "ipython",
    "version": 3
   },
   "file_extension": ".py",
   "mimetype": "text/x-python",
   "name": "python",
   "nbconvert_exporter": "python",
   "pygments_lexer": "ipython3",
   "version": "3.12.4"
  }
 },
 "nbformat": 4,
 "nbformat_minor": 2
}
